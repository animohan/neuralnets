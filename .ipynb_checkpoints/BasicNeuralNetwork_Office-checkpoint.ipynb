{
 "cells": [
  {
   "cell_type": "code",
   "execution_count": 3,
   "metadata": {
    "collapsed": false
   },
   "outputs": [],
   "source": [
    "import numpy as np\n",
    "import pandas as pd\n",
    "import matplotlib.pyplot as plt\n",
    "import pickle\n",
    "import matplotlib.image as mpimg\n",
    "from sklearn.model_selection import train_test_split"
   ]
  },
  {
   "cell_type": "code",
   "execution_count": 4,
   "metadata": {
    "collapsed": false
   },
   "outputs": [
    {
     "data": {
      "text/plain": [
       "'0.19.1'"
      ]
     },
     "execution_count": 4,
     "metadata": {},
     "output_type": "execute_result"
    }
   ],
   "source": [
    "import sklearn\n",
    "sklearn.__version__"
   ]
  },
  {
   "cell_type": "code",
   "execution_count": 5,
   "metadata": {
    "collapsed": true
   },
   "outputs": [],
   "source": [
    "%matplotlib inline\n",
    "plt.rcParams['figure.figsize'] = (10.0, 8.0) # Set default plot sizes\n",
    "plt.rcParams['image.interpolation']  = 'nearest' # User nearest neighbor for rendering small size images."
   ]
  },
  {
   "cell_type": "code",
   "execution_count": 6,
   "metadata": {
    "collapsed": true
   },
   "outputs": [],
   "source": [
    "#Allowing notebooks to reload external python modules; \n",
    "#Details: http://stackoverflow.com/questions/1907993/autoreload-of-modules-in-ipython\n",
    "%load_ext autoreload\n",
    "%autoreload 2"
   ]
  },
  {
   "cell_type": "markdown",
   "metadata": {},
   "source": [
    "## Reading and Visualizing the  data"
   ]
  },
  {
   "cell_type": "code",
   "execution_count": 7,
   "metadata": {
    "collapsed": true
   },
   "outputs": [],
   "source": [
    "# Dataset : CIFAR\n",
    "# using picke to open the CIFAR dataset\n",
    "\n",
    "def unpickle(file):\n",
    "    open_file = open(file,'rb')\n",
    "    data = pickle.load(open_file, encoding = \"bytes\")\n",
    "    return data"
   ]
  },
  {
   "cell_type": "code",
   "execution_count": 8,
   "metadata": {
    "collapsed": false
   },
   "outputs": [],
   "source": [
    "xtrain = []\n",
    "ytrain = []\n",
    "\n",
    "file = 'cifar/data_batch_1'\n",
    "opened_file = unpickle(file)\n",
    "x = opened_file[b'data'] # Getting access to the raw file\n",
    "\n",
    "#Each batch of CIFAR has 10,000 images. Each image  = 32*32 bits with 3 channels\n",
    "x_image = x.reshape(10000,3,32,32)\n",
    "x_image = x_image.transpose(0,2,3,1).astype('float')\n",
    "\n",
    "#Open label files\n",
    "y =  np.array(opened_file[b'labels'])"
   ]
  },
  {
   "cell_type": "code",
   "execution_count": 9,
   "metadata": {
    "collapsed": false
   },
   "outputs": [
    {
     "name": "stdout",
     "output_type": "stream",
     "text": [
      "Planes\n"
     ]
    },
    {
     "data": {
      "image/png": "[encoded data removed]",
      "text/plain": [
       "<matplotlib.figure.Figure at 0x27be9d9e208>"
      ]
     },
     "metadata": {},
     "output_type": "display_data"
    }
   ],
   "source": [
    "classes = {\"Plane\":0,\"Car\":1,\"Bird\":2,\"Cat\":3,\"Deer\":4,\"Dog\":5,\"Frog\":6,\"Horse\":7,\"Ship\":8,\"Truck\":9}\n",
    "\n",
    "#Location of the picture of a particular class\n",
    "y_location = np.where(y == classes[\"Plane\"])\n",
    "\n",
    "number_of_samples = 7\n",
    "#Get few images of the particular class. Image sample index = Indices of the number of selected samples\n",
    "image_sample_index = y_location[0][0:number_of_samples]\n",
    "\n",
    "plot_location = 1\n",
    "print(\"Planes\")\n",
    "for j in image_sample_index:\n",
    "    plt.subplot(1,number_of_samples,plot_location)\n",
    "    plt.imshow(x_image[j].astype('uint8'))\n",
    "    plt.axis('off')\n",
    "        \n",
    "    #Plot_location is for managing the location of the image rendered\n",
    "    # First image is at offset 1, second at offset 2 etc.\n",
    "    plot_location = plot_location + 1\n",
    "plt.show()"
   ]
  },
  {
   "cell_type": "markdown",
   "metadata": {},
   "source": [
    "## Data preparation"
   ]
  },
  {
   "cell_type": "markdown",
   "metadata": {},
   "source": [
    "Here we will prepare a training set containing images of the object we selected to be identified e.g planes and other objects that are not planes"
   ]
  },
  {
   "cell_type": "code",
   "execution_count": 10,
   "metadata": {
    "collapsed": true
   },
   "outputs": [],
   "source": [
    "y_target_location = np.where(y == classes[\"Plane\"])\n",
    "y_other_location = np.where(y != classes['Plane'])"
   ]
  },
  {
   "cell_type": "code",
   "execution_count": 11,
   "metadata": {
    "collapsed": false
   },
   "outputs": [],
   "source": [
    "x_train = np.append(x_image[y_target_location[0][0:100], ],x_image[y_other_location[0][0:100], ], axis = 0)\n",
    "y_train = np.append(np.ones([100,1]), np.zeros([100,1]))"
   ]
  },
  {
   "cell_type": "code",
   "execution_count": 12,
   "metadata": {
    "collapsed": false
   },
   "outputs": [],
   "source": [
    "x_test = np.append(x_image[y_target_location[0][100:120], ],x_image[y_other_location[0][100:120], ], axis = 0)\n",
    "y_test = np.append(np.ones([20,1]), np.zeros([20,1]))"
   ]
  },
  {
   "cell_type": "markdown",
   "metadata": {},
   "source": [
    "Take a look at the dimensions of the training and the test images"
   ]
  },
  {
   "cell_type": "code",
   "execution_count": 13,
   "metadata": {
    "collapsed": false
   },
   "outputs": [
    {
     "data": {
      "text/plain": [
       "(200, 32, 32, 3)"
      ]
     },
     "execution_count": 13,
     "metadata": {},
     "output_type": "execute_result"
    }
   ],
   "source": [
    "np.shape(x_train)"
   ]
  },
  {
   "cell_type": "code",
   "execution_count": 14,
   "metadata": {
    "collapsed": false
   },
   "outputs": [
    {
     "name": "stdout",
     "output_type": "stream",
     "text": [
      "Number of training examples 200\n",
      "Shape of a training images: 32 x 32 x 3\n",
      "Number of test examples 40\n",
      "Shape of a test images: 32 x 32 x 3\n"
     ]
    }
   ],
   "source": [
    "print(\"Number of training examples\",x_train.shape[0])\n",
    "print(\"Shape of a training images: %d x %d x %d\" %(x_train.shape[1],x_train.shape[2],x_train.shape[3]))\n",
    "print(\"Number of test examples\",x_test.shape[0])\n",
    "print(\"Shape of a test images: %d x %d x %d\" %(x_test.shape[1],x_test.shape[2],x_test.shape[3]))\n"
   ]
  },
  {
   "cell_type": "markdown",
   "metadata": {},
   "source": [
    "Next step is to flatten the images"
   ]
  },
  {
   "cell_type": "code",
   "execution_count": 15,
   "metadata": {
    "collapsed": false
   },
   "outputs": [],
   "source": [
    "x_train_flat = x_train.reshape(x_train.shape[0],-1).T\n",
    "x_test_flat = x_test.reshape(x_test.shape[0],-1).T"
   ]
  },
  {
   "cell_type": "code",
   "execution_count": 16,
   "metadata": {
    "collapsed": false
   },
   "outputs": [
    {
     "name": "stdout",
     "output_type": "stream",
     "text": [
      "Shape of flattened training set:  (3072, 200)\n",
      "Shape of flattened test set:  (3072, 40)\n"
     ]
    }
   ],
   "source": [
    "print(\"Shape of flattened training set: \", x_train_flat.shape)\n",
    "print(\"Shape of flattened test set: \", x_test_flat.shape)"
   ]
  },
  {
   "cell_type": "markdown",
   "metadata": {},
   "source": [
    "Next normalize the data by subtracting the mean and dividing by the standard deviation"
   ]
  },
  {
   "cell_type": "code",
   "execution_count": 17,
   "metadata": {
    "collapsed": false
   },
   "outputs": [],
   "source": [
    "xmean = np.mean(x_train_flat)\n",
    "xstdev = np.std(x_train_flat)\n",
    "x_train_flat = (x_train_flat - xmean)/xstdev\n",
    "x_test_flat = (x_test_flat - xmean)/xstdev"
   ]
  },
  {
   "cell_type": "markdown",
   "metadata": {},
   "source": [
    "## Build a simple perceptron model with logistic regression classifier"
   ]
  },
  {
   "cell_type": "code",
   "execution_count": 18,
   "metadata": {
    "collapsed": true
   },
   "outputs": [],
   "source": [
    "# sigmoid function:\n",
    "\n",
    "def sigmoid(x):\n",
    "    x = np.clip(x, -500,500)\n",
    "    if x.any()>=0:\n",
    "        return 1/(1+ np.exp(-x))\n",
    "    else:\n",
    "        return np.exp(x)/(1 + np.exp(x))"
   ]
  },
  {
   "cell_type": "code",
   "execution_count": 29,
   "metadata": {
    "collapsed": true
   },
   "outputs": [],
   "source": [
    "#Building Forward propagation\n",
    "\n",
    "def fwd_prop(W1,B1,W2,B2,X,Y):\n",
    "    \n",
    "    n_0 = np.shape(X)[0]\n",
    "    m   = np.shape(X)[1]\n",
    "    n_1 = np.shape(W1)[0]\n",
    "    n_2 = np.shape(W2)[0]\n",
    "      \n",
    "    \n",
    "    #Dimensions\n",
    "    # X = (n_0,m)\n",
    "    # W1 = (n_1,n_0)\n",
    "    # B1 = (n_1,1) -> Broadcast -> (n_1,m)\n",
    "    # Z1 = (n_1,m)\n",
    "    # A1 = (n_1,m)\n",
    "    Z1 = np.dot(W1,X) + B1\n",
    "    A1 = sigmoid(Z1)\n",
    "    \n",
    "    # A1 = (n_1,m)\n",
    "    # W2 = (n_2,n_1) = (1,n_1) [n_2 = 1 because last layer has only 1 node]  \n",
    "    # B2 = (n_2,1) -> Broadcast -> (n_2,m) = (1,m)\n",
    "    # Z2 = (n_2,m) = (1,m)\n",
    "    # A2 = (n_2,m) = (1,m)\n",
    "    Z2 = np.dot(W2,A1) + B2\n",
    "    A2 = sigmoid(Z2)\n",
    "    \n",
    "    return(A2,A1)\n",
    "    "
   ]
  },
  {
   "cell_type": "code",
   "execution_count": 37,
   "metadata": {
    "collapsed": true
   },
   "outputs": [],
   "source": [
    "def back_prop(A2,A1,W1,B1,W2,B2,X,Y):\n",
    "    \n",
    "    n_0 = np.shape(X)[0]\n",
    "    m   = np.shape(X)[1]\n",
    "    n_1 = np.shape(W1)[0]\n",
    "    n_2 = np.shape(W2)[0]\n",
    "    \n",
    "    #Matching dimensions\n",
    "    # Y = (1,m)\n",
    "    # A2 = (1,m)\n",
    "    # Loss = (1,m)\n",
    "    cost = (1/m) * ( np.sum(Y*np.log(A2) + (1-Y)*np.log(1-A2)))\n",
    "        \n",
    "    #dA2 = shape(A2) = (n_2,m) = (1,m) [n_2 = 1 because last layer has only 1 node]    \n",
    "    dA2 = Y/A2 + (1-Y)/(1-A2)\n",
    "    \n",
    "    #dZ2  = shape(Z2) = (n_2,m) = (1,m)\n",
    "    dZ2 = A2 - Y\n",
    "    \n",
    "    #dW2 = shape(W2) = (n_2,n_1) = (1, n_1)\n",
    "    dW2 = np.dot(dZ2,A1.T)\n",
    "    \n",
    "    #dB2 = (n_2,1) = (1,1)\n",
    "    dB2 = (1/m)*np.sum(dZ2, axis = 1, keepdims = True)\n",
    "    \n",
    "    #dA1 = (n_1,m) { W2:(n_2,n_1), dZ2:(n_2,m)}\n",
    "    dA1 = np.dot(W2.T,dZ2)\n",
    "    \n",
    "    #dZ1 = (n_1,m)\n",
    "    dZ1 = dA1*((1-A1)*A1)\n",
    "    \n",
    "    #dW1 = (n_1,n_0)\n",
    "    dW1 = np.dot(dZ1,X.T) #{dZ1:(n_1,m), X:(n_0,m)}\n",
    "    \n",
    "    #dB1 = (n_1,1)\n",
    "    dB1 = (1/m)*np.sum(dZ1, axis = 1, keepdims = True)\n",
    "    \n",
    "    \n",
    "    return(dW1, dB1, dW2, dB2, cost)"
   ]
  },
  {
   "cell_type": "code",
   "execution_count": 21,
   "metadata": {
    "collapsed": true
   },
   "outputs": [],
   "source": [
    "def update_weights(dW1, dB1, W1, B1,dW2, dB2, W2, B2, learning_rate):\n",
    "    W1 = W1 - learning_rate*dW1\n",
    "    W2 = W2 - learning_rate*dW2\n",
    "    B1 = B1 - learning_rate*B1\n",
    "    B2 = B2 - learning_rate*B2"
   ]
  },
  {
   "cell_type": "code",
   "execution_count": 22,
   "metadata": {
    "collapsed": false
   },
   "outputs": [
    {
     "ename": "SyntaxError",
     "evalue": "unexpected EOF while parsing (<ipython-input-22-b03700655186>, line 4)",
     "output_type": "error",
     "traceback": [
      "\u001b[1;36m  File \u001b[1;32m\"<ipython-input-22-b03700655186>\"\u001b[1;36m, line \u001b[1;32m4\u001b[0m\n\u001b[1;33m    \u001b[0m\n\u001b[1;37m    ^\u001b[0m\n\u001b[1;31mSyntaxError\u001b[0m\u001b[1;31m:\u001b[0m unexpected EOF while parsing\n"
     ]
    }
   ],
   "source": [
    "def run_nn(num_iterations, learning_rate):\n",
    "    \n",
    "    for i in np.arange(num_iterations):\n",
    "    "
   ]
  },
  {
   "cell_type": "code",
   "execution_count": 60,
   "metadata": {
    "collapsed": true
   },
   "outputs": [],
   "source": [
    "def run_iterations(X,Y,num_iterations, learning_rate):\n",
    "    n_0 = np.shape(X)[0]\n",
    "    m = np.shape(X)[1]\n",
    "    n_1 = 20\n",
    "    n_2 = 1\n",
    "    \n",
    "    W1 = np.random.random([n_1,n_0])\n",
    "    B1 = np.zeros([n_1,1])\n",
    "    W2 = np.random.random([n_2,n_1])\n",
    "    B2 = np.zeros([n_2,1])\n",
    "    \n",
    "    loss_array = np.ones([num_iterations])*np.nan\n",
    "    \n",
    "    for i in np.arange(num_iterations):\n",
    "        A2, A1 = fwd_prop(W1,B1,W2,B2,X,Y)\n",
    "        dW1, dB1, dW2, dB2, cost = back_prop(A2,A1,W1,B1,W2,B2,X,Y)\n",
    "        \n",
    "        loss_array[i] = cost\n",
    "        W1 = W1 - learning_rate*dW1\n",
    "        W2 = W2 - learning_rate*dW2\n",
    "        B1 = B1 - learning_rate*B1\n",
    "        B2 = B2 - learning_rate*B2\n",
    "            \n",
    "    return(W1,B1,W2,B2,loss_array)"
   ]
  },
  {
   "cell_type": "code",
   "execution_count": 63,
   "metadata": {
    "collapsed": false
   },
   "outputs": [
    {
     "data": {
      "text/plain": [
       "0.42499999999999999"
      ]
     },
     "execution_count": 63,
     "metadata": {},
     "output_type": "execute_result"
    },
    {
     "data": {
      "image/png": "[encoded data removed]",
      "text/plain": [
       "<matplotlib.figure.Figure at 0x27bea277a20>"
      ]
     },
     "metadata": {},
     "output_type": "display_data"
    }
   ],
   "source": [
    "W1,B1,W2,B2,loss_array = run_iterations(x_train_flat,y_train,1000,0.001)\n",
    "y_predict,ignore = fwd_prop(W1,B1,W2,B2,x_test_flat,y_test)\n",
    "\n",
    "plt.plot(loss_array)\n",
    "\n",
    "temp = y_predict.copy()\n",
    "temp[temp>=0.5] = 1\n",
    "temp[temp<0.5] = 0\n",
    "\n",
    "np.sum(temp == y_test)/len(y_test)"
   ]
  },
  {
   "cell_type": "code",
   "execution_count": 62,
   "metadata": {
    "collapsed": false
   },
   "outputs": [
    {
     "ename": "NameError",
     "evalue": "name 'loss_array' is not defined",
     "output_type": "error",
     "traceback": [
      "\u001b[1;31m---------------------------------------------------------------------------\u001b[0m",
      "\u001b[1;31mNameError\u001b[0m                                 Traceback (most recent call last)",
      "\u001b[1;32m<ipython-input-62-f9f69094b46f>\u001b[0m in \u001b[0;36m<module>\u001b[1;34m()\u001b[0m\n\u001b[1;32m----> 1\u001b[1;33m \u001b[0mnp\u001b[0m\u001b[1;33m.\u001b[0m\u001b[0mshape\u001b[0m\u001b[1;33m(\u001b[0m\u001b[0mloss_array\u001b[0m\u001b[1;33m)\u001b[0m\u001b[1;33m\u001b[0m\u001b[0m\n\u001b[0m",
      "\u001b[1;31mNameError\u001b[0m: name 'loss_array' is not defined"
     ]
    }
   ],
   "source": [
    "np.shape(loss_array)"
   ]
  },
  {
   "cell_type": "code",
   "execution_count": 55,
   "metadata": {
    "collapsed": false
   },
   "outputs": [
    {
     "data": {
      "text/plain": [
       "array([ 1.,  1.,  1.,  1.,  1.,  1.,  1.,  1.,  1.,  1.,  1.,  1.,  1.,\n",
       "        1.,  1.,  1.,  1.,  1.,  1.,  1.,  0.,  0.,  0.,  0.,  0.,  0.,\n",
       "        0.,  0.,  0.,  0.,  0.,  0.,  0.,  0.,  0.,  0.,  0.,  0.,  0.,  0.])"
      ]
     },
     "execution_count": 55,
     "metadata": {},
     "output_type": "execute_result"
    }
   ],
   "source": [
    "y_test"
   ]
  }
 ],
 "metadata": {
  "kernelspec": {
   "display_name": "Python 3",
   "language": "python",
   "name": "python3"
  },
  "language_info": {
   "codemirror_mode": {
    "name": "ipython",
    "version": 3
   },
   "file_extension": ".py",
   "mimetype": "text/x-python",
   "name": "python",
   "nbconvert_exporter": "python",
   "pygments_lexer": "ipython3",
   "version": "3.5.2"
  }
 },
 "nbformat": 4,
 "nbformat_minor": 2
}
