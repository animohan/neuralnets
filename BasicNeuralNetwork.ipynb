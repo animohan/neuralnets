{
 "cells": [
  {
   "cell_type": "code",
   "execution_count": 3,
   "metadata": {
    "collapsed": true
   },
   "outputs": [],
   "source": [
    "import numpy as np\n",
    "import pandas as pd\n",
    "import matplotlib.pyplot as plt\n",
    "import pickle\n",
    "import matplotlib.image as mpimg\n",
    "from sklearn.model_selection import train_test_split"
   ]
  },
  {
   "cell_type": "code",
   "execution_count": 4,
   "metadata": {
    "collapsed": true
   },
   "outputs": [],
   "source": [
    "%matplotlib inline\n",
    "plt.rcParams['figure.figsize'] = (10.0, 8.0) # Set default plot sizes\n",
    "plt.rcParams['image.interpolation']  = 'nearest' # User nearest neighbor for rendering small size images."
   ]
  },
  {
   "cell_type": "code",
   "execution_count": 5,
   "metadata": {
    "collapsed": true
   },
   "outputs": [],
   "source": [
    "#Allowing notebooks to reload external python modules; \n",
    "#Details: http://stackoverflow.com/questions/1907993/autoreload-of-modules-in-ipython\n",
    "%load_ext autoreload\n",
    "%autoreload 2"
   ]
  },
  {
   "cell_type": "markdown",
   "metadata": {},
   "source": [
    "## Reading and Visualizing the  data"
   ]
  },
  {
   "cell_type": "code",
   "execution_count": 6,
   "metadata": {
    "collapsed": true
   },
   "outputs": [],
   "source": [
    "# Dataset : CIFAR\n",
    "# using picke to open the CIFAR dataset\n",
    "\n",
    "def unpickle(file):\n",
    "    open_file = open(file,'rb')\n",
    "    data = pickle.load(open_file, encoding = \"bytes\")\n",
    "    return data"
   ]
  },
  {
   "cell_type": "code",
   "execution_count": 7,
   "metadata": {
    "collapsed": false
   },
   "outputs": [],
   "source": [
    "xtrain = []\n",
    "ytrain = []\n",
    "\n",
    "file = 'cifar/data_batch_1'\n",
    "opened_file = unpickle(file)\n",
    "x = opened_file[b'data'] # Getting access to the raw file\n",
    "\n",
    "#Each batch of CIFAR has 10,000 images. Each image  = 32*32 bits with 3 channels\n",
    "x_image = x.reshape(10000,3,32,32)\n",
    "x_image = x_image.transpose(0,2,3,1).astype('float')\n",
    "\n",
    "#Open label files\n",
    "y =  np.array(opened_file[b'labels'])"
   ]
  },
  {
   "cell_type": "code",
   "execution_count": 8,
   "metadata": {
    "collapsed": false
   },
   "outputs": [
    {
     "name": "stdout",
     "output_type": "stream",
     "text": [
      "Planes\n"
     ]
    },
    {
     "data": {
      "image/png": "[encoded data removed]",
      "text/plain": [
       "<matplotlib.figure.Figure at 0x7fb8bd4486d8>"
      ]
     },
     "metadata": {},
     "output_type": "display_data"
    }
   ],
   "source": [
    "classes = {\"Plane\":0,\"Car\":1,\"Bird\":2,\"Cat\":3,\"Deer\":4,\"Dog\":5,\"Frog\":6,\"Horse\":7,\"Ship\":8,\"Truck\":9}\n",
    "\n",
    "#Location of the picture of a particular class\n",
    "y_location = np.where(y == classes[\"Plane\"])\n",
    "\n",
    "number_of_samples = 7\n",
    "#Get few images of the particular class. Image sample index = Indices of the number of selected samples\n",
    "image_sample_index = y_location[0][0:number_of_samples]\n",
    "\n",
    "plot_location = 1\n",
    "print(\"Planes\")\n",
    "for j in image_sample_index:\n",
    "    plt.subplot(1,number_of_samples,plot_location)\n",
    "    plt.imshow(x_image[j].astype('uint8'))\n",
    "    plt.axis('off')\n",
    "        \n",
    "    #Plot_location is for managing the location of the image rendered\n",
    "    # First image is at offset 1, second at offset 2 etc.\n",
    "    plot_location = plot_location + 1\n",
    "plt.show()"
   ]
  },
  {
   "cell_type": "markdown",
   "metadata": {},
   "source": [
    "## Data preparation"
   ]
  },
  {
   "cell_type": "markdown",
   "metadata": {},
   "source": [
    "Here we will prepare a training set containing images of the object we selected to be identified e.g planes and other objects that are not planes"
   ]
  },
  {
   "cell_type": "code",
   "execution_count": 9,
   "metadata": {
    "collapsed": true
   },
   "outputs": [],
   "source": [
    "y_target_location = np.where(y == classes[\"Plane\"])\n",
    "y_other_location = np.where(y != classes['Plane'])"
   ]
  },
  {
   "cell_type": "code",
   "execution_count": 10,
   "metadata": {
    "collapsed": false
   },
   "outputs": [],
   "source": [
    "x_train = np.append(x_image[y_target_location[0][0:100], ],x_image[y_other_location[0][0:100], ], axis = 0)\n",
    "y_train = np.append(np.ones([100,1]), np.zeros([100,1]))"
   ]
  },
  {
   "cell_type": "code",
   "execution_count": 11,
   "metadata": {
    "collapsed": false
   },
   "outputs": [],
   "source": [
    "x_test = np.append(x_image[y_target_location[0][100:120], ],x_image[y_other_location[0][100:120], ], axis = 0)\n",
    "y_test = np.append(np.ones([20,1]), np.zeros([20,1]))"
   ]
  },
  {
   "cell_type": "markdown",
   "metadata": {},
   "source": [
    "Take a look at the dimensions of the training and the test images"
   ]
  },
  {
   "cell_type": "code",
   "execution_count": 12,
   "metadata": {
    "collapsed": false
   },
   "outputs": [
    {
     "data": {
      "text/plain": [
       "(200, 32, 32, 3)"
      ]
     },
     "execution_count": 12,
     "metadata": {},
     "output_type": "execute_result"
    }
   ],
   "source": [
    "np.shape(x_train)"
   ]
  },
  {
   "cell_type": "code",
   "execution_count": 13,
   "metadata": {
    "collapsed": false
   },
   "outputs": [
    {
     "name": "stdout",
     "output_type": "stream",
     "text": [
      "Number of training examples 200\n",
      "Shape of a training images: 32 x 32 x 3\n",
      "Number of test examples 40\n",
      "Shape of a test images: 32 x 32 x 3\n"
     ]
    }
   ],
   "source": [
    "print(\"Number of training examples\",x_train.shape[0])\n",
    "print(\"Shape of a training images: %d x %d x %d\" %(x_train.shape[1],x_train.shape[2],x_train.shape[3]))\n",
    "print(\"Number of test examples\",x_test.shape[0])\n",
    "print(\"Shape of a test images: %d x %d x %d\" %(x_test.shape[1],x_test.shape[2],x_test.shape[3]))\n"
   ]
  },
  {
   "cell_type": "markdown",
   "metadata": {},
   "source": [
    "Next step is to flatten the images"
   ]
  },
  {
   "cell_type": "code",
   "execution_count": 14,
   "metadata": {
    "collapsed": false
   },
   "outputs": [],
   "source": [
    "x_train_flat = x_train.reshape(x_train.shape[0],-1).T\n",
    "x_test_flat = x_test.reshape(x_test.shape[0],-1).T"
   ]
  },
  {
   "cell_type": "code",
   "execution_count": 15,
   "metadata": {
    "collapsed": false
   },
   "outputs": [
    {
     "name": "stdout",
     "output_type": "stream",
     "text": [
      "Shape of flattened training set:  (3072, 200)\n",
      "Shape of flattened test set:  (3072, 40)\n"
     ]
    }
   ],
   "source": [
    "print(\"Shape of flattened training set: \", x_train_flat.shape)\n",
    "print(\"Shape of flattened test set: \", x_test_flat.shape)"
   ]
  },
  {
   "cell_type": "markdown",
   "metadata": {},
   "source": [
    "Next normalize the data by subtracting the mean and dividing by the standard deviation"
   ]
  },
  {
   "cell_type": "code",
   "execution_count": 16,
   "metadata": {
    "collapsed": false
   },
   "outputs": [],
   "source": [
    "xmean = np.mean(x_train_flat)\n",
    "xstdev = np.std(x_train_flat)\n",
    "x_train_flat = (x_train_flat - xmean)/xstdev\n",
    "x_test_flat = (x_test_flat - xmean)/xstdev"
   ]
  },
  {
   "cell_type": "markdown",
   "metadata": {},
   "source": [
    "## Build a simple perceptron model with logistic regression classifier"
   ]
  },
  {
   "cell_type": "code",
   "execution_count": 82,
   "metadata": {
    "collapsed": true
   },
   "outputs": [],
   "source": [
    "#Just writing the relu; not using it here\n",
    "def relu(z):\n",
    "    z[z<0] = z"
   ]
  },
  {
   "cell_type": "code",
   "execution_count": 83,
   "metadata": {
    "collapsed": true
   },
   "outputs": [],
   "source": [
    "# sigmoid function:\n",
    "\n",
    "def sigmoid(z):\n",
    "    z = np.clip(z,-500,500)\n",
    "    \n",
    "    if(z.any()>0):\n",
    "        return(1/(1+ np.exp(-z)))\n",
    "    else:\n",
    "        #print(\"in_sigmoid\")\n",
    "        return(np.exp(z)/(1+ np.exp(z)))\n",
    "    "
   ]
  },
  {
   "cell_type": "code",
   "execution_count": 104,
   "metadata": {
    "collapsed": true
   },
   "outputs": [],
   "source": [
    "#Just writing the softmax; not using it here\n",
    "def softmax(z): \n",
    "    stabilization_factor =  np.max(z, axis = 0)\n",
    "    stabilization_factor = stabilization_factor.reshape(1,np.shape(z)[1])\n",
    "    \n",
    "    unnormalized_prob = np.exp(z + stabilization_factor)\n",
    "    normalization_factor = np.sum(unnormalized_prob, axis = 0)\n",
    "    \n",
    "    normalized_prob = unnormalized_prob/normalization_factor\n",
    "    return(normalized_prob)"
   ]
  },
  {
   "cell_type": "code",
   "execution_count": 109,
   "metadata": {
    "collapsed": false
   },
   "outputs": [
    {
     "name": "stdout",
     "output_type": "stream",
     "text": [
      "[[ 0.19542948  0.58135893  0.97001999]\n",
      " [ 0.8468288   0.23984776  0.49376971]]\n",
      "[[ 0.34267427  0.58455756  0.61686204]\n",
      " [ 0.65732573  0.41544244  0.38313796]]\n",
      "[ 1.  1.  1.]\n"
     ]
    }
   ],
   "source": [
    "#Testing softmax\n",
    "u = np.random.random([2,3])\n",
    "print(u)\n",
    "k = softmax(u)\n",
    "print(k)\n",
    "print(np.sum(k, axis = 0))"
   ]
  },
  {
   "cell_type": "code",
   "execution_count": 96,
   "metadata": {
    "collapsed": false
   },
   "outputs": [
    {
     "data": {
      "text/plain": [
       "array([[ 1.30485406,  2.42598817,  1.76321272],\n",
       "       [ 1.6362747 ,  5.58484063,  2.93780331]])"
      ]
     },
     "execution_count": 96,
     "metadata": {},
     "output_type": "execute_result"
    }
   ],
   "source": [
    "np.exp(u)*np.exp(np.max(u, axis = 0))"
   ]
  },
  {
   "cell_type": "code",
   "execution_count": 36,
   "metadata": {
    "collapsed": true
   },
   "outputs": [],
   "source": [
    "#Building Forward propagation\n",
    "\n",
    "def fwd_prop(W1,B1,W2,B2,X,Y):\n",
    "    \n",
    "    n_0 = np.shape(X)[0]\n",
    "    m   = np.shape(X)[1]\n",
    "    n_1 = np.shape(W1)[0]\n",
    "    n_2 = np.shape(W2)[0]\n",
    "      \n",
    "    \n",
    "    #Dimensions\n",
    "    # X = (n_0,m)\n",
    "    # W1 = (n_1,n_0)\n",
    "    # B1 = (n_1,1) -> Broadcast -> (n_1,m)\n",
    "    # Z1 = (n_1,m)\n",
    "    # A1 = (n_1,m)\n",
    "    Z1 = np.dot(W1,X) + B1#\n",
    "    A1 = sigmoid(Z1)\n",
    "    \n",
    "    # A1 = (n_1,m)\n",
    "    # W2 = (n_2,n_1) = (1,n_1) [n_2 = 1 because last layer has only 1 node]  \n",
    "    # B2 = (n_2,1) -> Broadcast -> (n_2,m) = (1,m)\n",
    "    # Z2 = (n_2,m) = (1,m)\n",
    "    # A2 = (n_2,m) = (1,m)\n",
    "    Z2 = np.dot(W2,A1) + B2\n",
    "    A2 = sigmoid(Z2)\n",
    "    \n",
    "    return(A2,A1)\n",
    "    "
   ]
  },
  {
   "cell_type": "code",
   "execution_count": 40,
   "metadata": {
    "collapsed": true
   },
   "outputs": [],
   "source": [
    "def back_prop(A2,A1,W1,B1,W2,B2,X,Y):\n",
    "    \n",
    "    n_0 = np.shape(X)[0]\n",
    "    m   = np.shape(X)[1]\n",
    "    n_1 = np.shape(W1)[0]\n",
    "    n_2 = np.shape(W2)[0]\n",
    "    \n",
    "    #Matching dimensions\n",
    "    # Y = (1,m)\n",
    "    # A2 = (1,m)\n",
    "    # Loss = (1,m)\n",
    "    cost = (1/m)* np.sum(Y*np.log(A2) + (1-Y)*np.log(1-A2))\n",
    "        \n",
    "    #dA2 = shape(A2) = (n_2,m) = (1,m) [n_2 = 1 because last layer has only 1 node]    \n",
    "    dA2 = Y/A2 + (1-Y)/(1-A2)\n",
    "    \n",
    "    #dZ2  = shape(Z2) = (n_2,m) = (1,m)\n",
    "    dZ2 = A2 - Y\n",
    "    \n",
    "    #dW2 = shape(W2) = (n_2,n_1) = (1, n_1)\n",
    "    dW2 = np.dot(dZ2,A1.T)\n",
    "    \n",
    "    #dB2 = (n_2,1) = (1,1)\n",
    "    dB2 = (1/m)*np.sum(dZ2, axis = 1, keepdims = True)\n",
    "    \n",
    "    #dA1 = (n_1,m) { W2:(n_2,n_1), dZ2:(n_2,m)}\n",
    "    dA1 = np.dot(W2.T,dZ2)\n",
    "    \n",
    "    #dZ1 = (n_1,m)\n",
    "    dZ1 = dA1*((1-A1)*A1)\n",
    "    \n",
    "    #dW1 = (n_1,n_0)\n",
    "    dW1 = np.dot(dZ1,X.T) #{dZ1:(n_1,m), X:(n_0,m)}\n",
    "    \n",
    "    #dB1 = (n_1,1)\n",
    "    dB1 = (1/m)*np.sum(dZ1, axis = 1, keepdims = True)\n",
    "    \n",
    "    \n",
    "    return(dW1, dB1, dW2, dB2, cost)"
   ]
  },
  {
   "cell_type": "code",
   "execution_count": 20,
   "metadata": {
    "collapsed": true
   },
   "outputs": [],
   "source": [
    "def update_weights(dW1, dB1, W1, B1,dW2, dB2, W2, B2, learning_rate):\n",
    "    W1 = W1 - learning_rate*dW1\n",
    "    W2 = W2 - learning_rate*dW2\n",
    "    B1 = B1 - learning_rate*B1\n",
    "    B2 = B2 - learning_rate*B2\n",
    "    return(W1,B2,W2,B2)"
   ]
  },
  {
   "cell_type": "code",
   "execution_count": 112,
   "metadata": {
    "collapsed": false
   },
   "outputs": [],
   "source": [
    "def run_nn(num_iterations, learning_rate, X,Y,n_1,n_2):\n",
    "    n_0,m = np.shape(X)\n",
    "    \n",
    "    W1 = np.random.random([n_1,n_0])\n",
    "    B1 = np.zeros([n_1,1])\n",
    "    \n",
    "    W2 = np.random.random([n_2,n_1])\n",
    "    B2 = np.zeros([n_2,1])\n",
    "    \n",
    "    loss_array = np.ones([num_iterations])*np.nan\n",
    "    \n",
    "    for i in np.arange(num_iterations):\n",
    "        A2,A1 = fwd_prop(W1,B1,W2,B2,X,Y)\n",
    "        dW1,dB1,dW2,dB2,loss = back_prop(A2,A1,W1,B1,W2,B2,X,Y)\n",
    "        W1 = W1 - learning_rate*dW1\n",
    "        W2 = W2 - learning_rate*dW2\n",
    "        B1 = B1 - learning_rate*B1\n",
    "        B2 = B2 - learning_rate*B2\n",
    "        loss_array[i] = loss\n",
    "    \n",
    "    return(W1,B1,W2,B2,loss_array)"
   ]
  },
  {
   "cell_type": "code",
   "execution_count": 79,
   "metadata": {
    "collapsed": false
   },
   "outputs": [
    {
     "name": "stderr",
     "output_type": "stream",
     "text": [
      "/home/animo/anaconda3/lib/python3.5/site-packages/ipykernel/__main__.py:5: RuntimeWarning: overflow encountered in exp\n"
     ]
    }
   ],
   "source": [
    "W1,B1,W2,B2,loss_array = run_nn(10,0.01,x_train_flat, y_train,5,1)\n",
    "y_test_pred = fwd_prop(W1,B1,W2,B2,x_test_flat,y_test)[0]"
   ]
  },
  {
   "cell_type": "code",
   "execution_count": 80,
   "metadata": {
    "collapsed": false
   },
   "outputs": [],
   "source": [
    "temp = y_test_pred.copy()\n",
    "temp[temp>=0.5] = 1\n",
    "temp[temp<0.5] = 0"
   ]
  },
  {
   "cell_type": "code",
   "execution_count": 81,
   "metadata": {
    "collapsed": false
   },
   "outputs": [
    {
     "data": {
      "text/plain": [
       "array([[ 0.5       ,  0.71842901,  0.5       ,  0.5       ,  0.71842901,\n",
       "         0.71842901,  0.71842901,  0.71842901,  0.5       ,  0.71842901,\n",
       "         0.71842901,  0.71842901,  0.71842901,  0.5       ,  0.71842901,\n",
       "         0.71842901,  0.71842901,  0.5       ,  0.71842901,  0.71842901,\n",
       "         0.5       ,  0.5       ,  0.71842901,  0.71842901,  0.5       ,\n",
       "         0.5       ,  0.5       ,  0.5       ,  0.71842901,  0.5       ,\n",
       "         0.71842901,  0.71842901,  0.71842901,  0.5       ,  0.71842901,\n",
       "         0.71842901,  0.5       ,  0.71842901,  0.71842901,  0.71842901]])"
      ]
     },
     "execution_count": 81,
     "metadata": {},
     "output_type": "execute_result"
    }
   ],
   "source": [
    "y_test_pred"
   ]
  },
  {
   "cell_type": "code",
   "execution_count": 72,
   "metadata": {
    "collapsed": false
   },
   "outputs": [
    {
     "data": {
      "text/plain": [
       "array([ 1.,  1.,  1.,  1.,  1.,  1.,  1.,  1.,  1.,  1.,  1.,  1.,  1.,\n",
       "        1.,  1.,  1.,  1.,  1.,  1.,  1.,  0.,  0.,  0.,  0.,  0.,  0.,\n",
       "        0.,  0.,  0.,  0.,  0.,  0.,  0.,  0.,  0.,  0.,  0.,  0.,  0.,  0.])"
      ]
     },
     "execution_count": 72,
     "metadata": {},
     "output_type": "execute_result"
    }
   ],
   "source": [
    "y_test"
   ]
  },
  {
   "cell_type": "code",
   "execution_count": 70,
   "metadata": {
    "collapsed": false
   },
   "outputs": [
    {
     "data": {
      "text/plain": [
       "array([[ True,  True,  True,  True,  True,  True,  True,  True,  True,\n",
       "         True,  True,  True,  True,  True,  True,  True,  True,  True,\n",
       "         True,  True, False, False, False, False, False, False, False,\n",
       "        False, False, False, False, False, False, False, False, False,\n",
       "        False, False, False, False]], dtype=bool)"
      ]
     },
     "execution_count": 70,
     "metadata": {},
     "output_type": "execute_result"
    }
   ],
   "source": [
    "temp == y_test"
   ]
  },
  {
   "cell_type": "code",
   "execution_count": 113,
   "metadata": {
    "collapsed": false
   },
   "outputs": [
    {
     "ename": "ValueError",
     "evalue": "operands could not be broadcast together with shapes (5,) (1,4) ",
     "output_type": "error",
     "traceback": [
      "\u001b[0;31m---------------------------------------------------------------------------\u001b[0m",
      "\u001b[0;31mValueError\u001b[0m                                Traceback (most recent call last)",
      "\u001b[0;32m<ipython-input-113-324931fe0b79>\u001b[0m in \u001b[0;36m<module>\u001b[0;34m()\u001b[0m\n\u001b[1;32m      4\u001b[0m \u001b[0mv\u001b[0m \u001b[0;34m=\u001b[0m \u001b[0mnp\u001b[0m\u001b[0;34m.\u001b[0m\u001b[0marray\u001b[0m\u001b[0;34m(\u001b[0m\u001b[0;34m[\u001b[0m\u001b[0;36m0\u001b[0m\u001b[0;34m,\u001b[0m\u001b[0;36m1\u001b[0m\u001b[0;34m,\u001b[0m\u001b[0;36m2\u001b[0m\u001b[0;34m,\u001b[0m\u001b[0;36m2\u001b[0m\u001b[0;34m,\u001b[0m\u001b[0;36m1\u001b[0m\u001b[0;34m]\u001b[0m\u001b[0;34m)\u001b[0m\u001b[0;34m\u001b[0m\u001b[0m\n\u001b[1;32m      5\u001b[0m \u001b[0;34m\u001b[0m\u001b[0m\n\u001b[0;32m----> 6\u001b[0;31m \u001b[0mW1\u001b[0m\u001b[0;34m,\u001b[0m\u001b[0mB1\u001b[0m\u001b[0;34m,\u001b[0m\u001b[0mW2\u001b[0m\u001b[0;34m,\u001b[0m\u001b[0mB2\u001b[0m\u001b[0;34m,\u001b[0m\u001b[0mloss_array\u001b[0m \u001b[0;34m=\u001b[0m \u001b[0mrun_nn\u001b[0m\u001b[0;34m(\u001b[0m\u001b[0;36m10\u001b[0m\u001b[0;34m,\u001b[0m\u001b[0;36m0.01\u001b[0m\u001b[0;34m,\u001b[0m\u001b[0mu\u001b[0m\u001b[0;34m,\u001b[0m\u001b[0mv\u001b[0m\u001b[0;34m,\u001b[0m\u001b[0;36m5\u001b[0m\u001b[0;34m,\u001b[0m\u001b[0;36m1\u001b[0m\u001b[0;34m)\u001b[0m\u001b[0;34m\u001b[0m\u001b[0m\n\u001b[0m\u001b[1;32m      7\u001b[0m \u001b[0;34m\u001b[0m\u001b[0m\n",
      "\u001b[0;32m<ipython-input-112-09131493a848>\u001b[0m in \u001b[0;36mrun_nn\u001b[0;34m(num_iterations, learning_rate, X, Y, n_1, n_2)\u001b[0m\n\u001b[1;32m     12\u001b[0m     \u001b[0;32mfor\u001b[0m \u001b[0mi\u001b[0m \u001b[0;32min\u001b[0m \u001b[0mnp\u001b[0m\u001b[0;34m.\u001b[0m\u001b[0marange\u001b[0m\u001b[0;34m(\u001b[0m\u001b[0mnum_iterations\u001b[0m\u001b[0;34m)\u001b[0m\u001b[0;34m:\u001b[0m\u001b[0;34m\u001b[0m\u001b[0m\n\u001b[1;32m     13\u001b[0m         \u001b[0mA2\u001b[0m\u001b[0;34m,\u001b[0m\u001b[0mA1\u001b[0m \u001b[0;34m=\u001b[0m \u001b[0mfwd_prop\u001b[0m\u001b[0;34m(\u001b[0m\u001b[0mW1\u001b[0m\u001b[0;34m,\u001b[0m\u001b[0mB1\u001b[0m\u001b[0;34m,\u001b[0m\u001b[0mW2\u001b[0m\u001b[0;34m,\u001b[0m\u001b[0mB2\u001b[0m\u001b[0;34m,\u001b[0m\u001b[0mX\u001b[0m\u001b[0;34m,\u001b[0m\u001b[0mY\u001b[0m\u001b[0;34m)\u001b[0m\u001b[0;34m\u001b[0m\u001b[0m\n\u001b[0;32m---> 14\u001b[0;31m         \u001b[0mdW1\u001b[0m\u001b[0;34m,\u001b[0m\u001b[0mdB1\u001b[0m\u001b[0;34m,\u001b[0m\u001b[0mdW2\u001b[0m\u001b[0;34m,\u001b[0m\u001b[0mdB2\u001b[0m\u001b[0;34m,\u001b[0m\u001b[0mloss\u001b[0m \u001b[0;34m=\u001b[0m \u001b[0mback_prop\u001b[0m\u001b[0;34m(\u001b[0m\u001b[0mA2\u001b[0m\u001b[0;34m,\u001b[0m\u001b[0mA1\u001b[0m\u001b[0;34m,\u001b[0m\u001b[0mW1\u001b[0m\u001b[0;34m,\u001b[0m\u001b[0mB1\u001b[0m\u001b[0;34m,\u001b[0m\u001b[0mW2\u001b[0m\u001b[0;34m,\u001b[0m\u001b[0mB2\u001b[0m\u001b[0;34m,\u001b[0m\u001b[0mX\u001b[0m\u001b[0;34m,\u001b[0m\u001b[0mY\u001b[0m\u001b[0;34m)\u001b[0m\u001b[0;34m\u001b[0m\u001b[0m\n\u001b[0m\u001b[1;32m     15\u001b[0m         \u001b[0mW1\u001b[0m \u001b[0;34m=\u001b[0m \u001b[0mW1\u001b[0m \u001b[0;34m-\u001b[0m \u001b[0mlearning_rate\u001b[0m\u001b[0;34m*\u001b[0m\u001b[0mdW1\u001b[0m\u001b[0;34m\u001b[0m\u001b[0m\n\u001b[1;32m     16\u001b[0m         \u001b[0mW2\u001b[0m \u001b[0;34m=\u001b[0m \u001b[0mW2\u001b[0m \u001b[0;34m-\u001b[0m \u001b[0mlearning_rate\u001b[0m\u001b[0;34m*\u001b[0m\u001b[0mdW2\u001b[0m\u001b[0;34m\u001b[0m\u001b[0m\n",
      "\u001b[0;32m<ipython-input-40-9a6593489074>\u001b[0m in \u001b[0;36mback_prop\u001b[0;34m(A2, A1, W1, B1, W2, B2, X, Y)\u001b[0m\n\u001b[1;32m     10\u001b[0m     \u001b[0;31m# A2 = (1,m)\u001b[0m\u001b[0;34m\u001b[0m\u001b[0;34m\u001b[0m\u001b[0m\n\u001b[1;32m     11\u001b[0m     \u001b[0;31m# Loss = (1,m)\u001b[0m\u001b[0;34m\u001b[0m\u001b[0;34m\u001b[0m\u001b[0m\n\u001b[0;32m---> 12\u001b[0;31m     \u001b[0mcost\u001b[0m \u001b[0;34m=\u001b[0m \u001b[0;34m(\u001b[0m\u001b[0;36m1\u001b[0m\u001b[0;34m/\u001b[0m\u001b[0mm\u001b[0m\u001b[0;34m)\u001b[0m\u001b[0;34m*\u001b[0m\u001b[0mnp\u001b[0m\u001b[0;34m.\u001b[0m\u001b[0msum\u001b[0m\u001b[0;34m(\u001b[0m\u001b[0mY\u001b[0m\u001b[0;34m*\u001b[0m\u001b[0mnp\u001b[0m\u001b[0;34m.\u001b[0m\u001b[0mlog\u001b[0m\u001b[0;34m(\u001b[0m\u001b[0mA2\u001b[0m\u001b[0;34m)\u001b[0m \u001b[0;34m+\u001b[0m \u001b[0;34m(\u001b[0m\u001b[0;36m1\u001b[0m\u001b[0;34m-\u001b[0m\u001b[0mY\u001b[0m\u001b[0;34m)\u001b[0m\u001b[0;34m*\u001b[0m\u001b[0mnp\u001b[0m\u001b[0;34m.\u001b[0m\u001b[0mlog\u001b[0m\u001b[0;34m(\u001b[0m\u001b[0;36m1\u001b[0m\u001b[0;34m-\u001b[0m\u001b[0mA2\u001b[0m\u001b[0;34m)\u001b[0m\u001b[0;34m)\u001b[0m\u001b[0;34m\u001b[0m\u001b[0m\n\u001b[0m\u001b[1;32m     13\u001b[0m \u001b[0;34m\u001b[0m\u001b[0m\n\u001b[1;32m     14\u001b[0m     \u001b[0;31m#dA2 = shape(A2) = (n_2,m) = (1,m) [n_2 = 1 because last layer has only 1 node]\u001b[0m\u001b[0;34m\u001b[0m\u001b[0;34m\u001b[0m\u001b[0m\n",
      "\u001b[0;31mValueError\u001b[0m: operands could not be broadcast together with shapes (5,) (1,4) "
     ]
    }
   ],
   "source": [
    "#Simple test case\n",
    "np.random.seed(1)\n",
    "u = 10*np.random.randn(5,4)\n",
    "v = np.array([0,1,2,2,1])\n",
    "\n",
    "W1,B1,W2,B2,loss_array = run_nn(10,0.01,u,v,5,1)\n",
    "\n"
   ]
  },
  {
   "cell_type": "code",
   "execution_count": 64,
   "metadata": {
    "collapsed": false
   },
   "outputs": [
    {
     "data": {
      "text/plain": [
       "array([ 1.,  1.,  1.,  1.,  1.])"
      ]
     },
     "execution_count": 64,
     "metadata": {},
     "output_type": "execute_result"
    }
   ],
   "source": [
    "1/(1+np.exp(-np.random.random([5])*900))"
   ]
  },
  {
   "cell_type": "code",
   "execution_count": 65,
   "metadata": {
    "collapsed": false
   },
   "outputs": [
    {
     "name": "stderr",
     "output_type": "stream",
     "text": [
      "/home/animo/anaconda3/lib/python3.5/site-packages/ipykernel/__main__.py:1: RuntimeWarning: overflow encountered in exp\n",
      "  if __name__ == '__main__':\n"
     ]
    },
    {
     "data": {
      "text/plain": [
       "array([  0.00000000e+000,   0.00000000e+000,   6.36666144e-012,\n",
       "         1.28690497e-055,   6.99610581e-229])"
      ]
     },
     "execution_count": 65,
     "metadata": {},
     "output_type": "execute_result"
    }
   ],
   "source": [
    "(np.random.random([5])*900)/(1+np.exp(np.random.random([5])*900))"
   ]
  }
 ],
 "metadata": {
  "kernelspec": {
   "display_name": "Python 3",
   "language": "python",
   "name": "python3"
  },
  "language_info": {
   "codemirror_mode": {
    "name": "ipython",
    "version": 3
   },
   "file_extension": ".py",
   "mimetype": "text/x-python",
   "name": "python",
   "nbconvert_exporter": "python",
   "pygments_lexer": "ipython3",
   "version": "3.5.2"
  }
 },
 "nbformat": 4,
 "nbformat_minor": 2
}
