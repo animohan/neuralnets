{
 "cells": [
  {
   "cell_type": "code",
   "execution_count": 1,
   "metadata": {
    "collapsed": true
   },
   "outputs": [],
   "source": [
    "import numpy as np\n",
    "import math\n",
    "import pandas as pd\n",
    "import random\n",
    "import matplotlib.pyplot as plt"
   ]
  },
  {
   "cell_type": "code",
   "execution_count": 2,
   "metadata": {
    "collapsed": true
   },
   "outputs": [],
   "source": [
    "%matplotlib inline"
   ]
  },
  {
   "cell_type": "code",
   "execution_count": 1,
   "metadata": {
    "collapsed": false
   },
   "outputs": [
    {
     "ename": "SyntaxError",
     "evalue": "invalid syntax (<ipython-input-1-586e77004550>, line 1)",
     "output_type": "error",
     "traceback": [
      "\u001b[0;36m  File \u001b[0;32m\"<ipython-input-1-586e77004550>\"\u001b[0;36m, line \u001b[0;32m1\u001b[0m\n\u001b[0;31m    class SingleLayerNeuralNetwork\u001b[0m\n\u001b[0m                                  ^\u001b[0m\n\u001b[0;31mSyntaxError\u001b[0m\u001b[0;31m:\u001b[0m invalid syntax\n"
     ]
    }
   ],
   "source": [
    "class SingleLayerNeuralNetwork\n",
    "    def __init__(self, numInputs, numHidden, numOutputs):\n",
    "        #Assigning the size of the nodes\n",
    "        self.input = numInputs\n",
    "        self.l1 = numHidden\n",
    "        self.output = numOutputs\n",
    "        \n",
    "        #setting up input, hidden and output nodes\n",
    "        self.inputNodes = np.zeros(shape = [self.input], dtype = np.float32)\n",
    "        self.l1Nodes = np.zeros(shape = [self.l1], dtype = np.float32)\n",
    "        self.outputNodes = np.zeros(shape = [self.output], dtype = np.float32)\n",
    "        \n",
    "        #Setting up the bias values for the node.\n",
    "        self.l1Bias = np.zeros(shape = [self.l1], dtype = np.float32)\n",
    "        self.l2Bias = np.zeros(shape = [self.output], dtype = np.float32)\n",
    "        \n",
    "        #Setting the weights of the system.\n",
    "        self.l1Weights = np.zeros(shape = [self.input, self.hidden], dtype = np.float32)\n",
    "        self.l2Weights = np.zeros(shape = [self.input, self.hidden], stype = np.float32)\n",
    "        \n",
    "        #Setting the initial values of the system\n",
    "        def setWeights(self, weights):\n",
    "            #Weights list contains the weights + biases in an order\n",
    "            if len(weights)!= self.totalWeights(self.input, self.l1,self.output):\n",
    "                print(\"Error: Incorrect number of Weights\")\n",
    "                return -1\n",
    "            \n",
    "            idx = 0\n",
    "            \n",
    "            for i in range(self.input):\n",
    "                for j in range(self.l1):\n",
    "                    self.l1Weights[i,j] = weights[idx]\n",
    "                    idx = idx + 1\n",
    "            \n",
    "            for j in range(self.l1):\n",
    "                self.l1Bias[j] =  weights[idx]\n",
    "                idx = idx + 1\n",
    "        \n",
    "        \n",
    "            for i in range(self.l1):\n",
    "                for j in range(self.output):\n",
    "                    self.l2Weights[i,j] = weights[idx]\n",
    "                    idx = idx + 1\n",
    "            \n",
    "            for i in range(self.output):\n",
    "                self.l2Bias[i] = weights[idx]\n",
    "                idx = idx + 1\n",
    "                \n",
    "        \n",
    "        def getWeights(self):\n",
    "            tw = self.totalWeights(self.input, self.l1. self.output)\n",
    "            result = np.zeros(shape = [tw], dtype = np.float32)\n",
    "            idx = 0\n",
    "            \n",
    "            for i in range(self.input):\n",
    "                for j in range(self.l1):\n",
    "                    result[idx] = self.l1Weights[i,j]\n",
    "                    idx = idx + 1\n",
    "            \n",
    "            for i in range(self.l1):\n",
    "                result[idx] = self.l1Bias[i]\n",
    "                idx = idx + 1\n",
    "                \n",
    "            \n",
    "            for i in range(self.l1):\n",
    "                for j in range(self.output):\n",
    "                    result[idx] = self.l1Weights[i,j]\n",
    "                    idx = idx + 1\n",
    "                    \n",
    "            for i in range(self.output):\n",
    "                result[idx] = self.l2Bias[i]\n",
    "                \n",
    "            \n",
    "            return(result)\n",
    "\n",
    "        \n",
    "        def initializeWeights(self):\n",
    "            numWeights = self.totalWeights(self.input, self.l1, self.ouput)\n",
    "            weights = np.zeros(shape = [numWeights], dtype = np.float32)\n",
    "            low = -0.01\n",
    "            high = 0.01\n",
    "            for idx in range(len(weights)):\n",
    "                weights[idx] = (high - low) * self.rnd.random() + low\n",
    "            self.setWeights(weights)\n",
    "            \n",
    "        \n",
    "        def computeOutputs(self, inpVector):\n",
    "            print(\"\\n Input -> Hidden Weights\")\n",
    "            showMatrix(self.l1Weights, 2)\n",
    "            \n",
    "            print(\"\\n Hidden Layer (l1) Bias\")\n",
    "            showVector(self.l1Bias, 2)\n",
    "            \n",
    "            print(\"\\n Hidden -> Output Weights\")\n",
    "            showMatrix(self.l2Weights,2)\n",
    "            \n",
    "            print(\"\\n Ouput Layer (l2) Bias\")\n",
    "            showVector(self.l2Bias)\n",
    "            \n",
    "            l1Sum = np.zeros(shape = [self.l1], dtype = np.float32)\n",
    "            outputSum = np.zeros(shape = [self.output], dtype = np.float32)\n",
    "            \n",
    "            for i in range(self.input):\n",
    "                self.inputNodes[i] = inpVector[i]\n",
    "            \n",
    "            for j in range(self.l1):\n",
    "                for i in range(self.input):\n",
    "                    l1Sum[j] = l1Sum[j] + self.inputNodes[i] * self.l1Weights[i,j]\n",
    "            \n",
    "            for i in range(self.l1):\n",
    "                l1Sum[i]  = l1Sum[i] + l1Bias[i]\n",
    "                \n",
    "            \n",
    "            print(\"\\n pre-tanh activation of the Hidden Node\")\n",
    "            showVector(l1Sum, 4)\n",
    "            \n",
    "            for i in range(self.l1):\n",
    "                \n",
    "        \n",
    "            "
   ]
  },
  {
   "cell_type": "code",
   "execution_count": null,
   "metadata": {
    "collapsed": true
   },
   "outputs": [],
   "source": []
  }
 ],
 "metadata": {
  "kernelspec": {
   "display_name": "Python 3",
   "language": "python",
   "name": "python3"
  },
  "language_info": {
   "codemirror_mode": {
    "name": "ipython",
    "version": 3
   },
   "file_extension": ".py",
   "mimetype": "text/x-python",
   "name": "python",
   "nbconvert_exporter": "python",
   "pygments_lexer": "ipython3",
   "version": "3.5.2"
  }
 },
 "nbformat": 4,
 "nbformat_minor": 2
}
