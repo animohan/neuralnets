{
 "cells": [
  {
   "cell_type": "markdown",
   "metadata": {
    "collapsed": true
   },
   "source": [
    "## Backpropagation"
   ]
  },
  {
   "cell_type": "markdown",
   "metadata": {},
   "source": [
    "$$E = \\frac{1}{2} * \\sum_{j = 1}^2 (t_{j} - o_{j})^{2}$"
   ]
  },
  {
   "cell_type": "markdown",
   "metadata": {},
   "source": [
    "$\\frac{\\partial E}{\\partial W_{11}}$ = $\\frac{\\partial E}{\\partial o_{1}}$ $*$ $\\frac{\\partial o_{1}}{\\partial u}$ $*$ $ \\frac{\\partial u}{\\partial W_{11}}$"
   ]
  },
  {
   "cell_type": "markdown",
   "metadata": {},
   "source": [
    "$ u = (x_{0}*w_{01}) + (x_{1}*w_{11}) + (x_{2}*w_{21}) + (x_{3}*w_{31}) + (x_{4}*w_{41})  $"
   ]
  },
  {
   "cell_type": "markdown",
   "metadata": {},
   "source": [
    "$o_{1} = \\frac{e^{u}}{e^u + e^v}$"
   ]
  },
  {
   "cell_type": "markdown",
   "metadata": {},
   "source": [
    "$o_{2} = \\frac{e^{v}}{e^u + e^v}$"
   ]
  },
  {
   "cell_type": "markdown",
   "metadata": {},
   "source": [
    "$\\frac{\\partial E}{\\partial o_{1}}$  = $2*\\frac{1}{2}$* $(t_{1}-o_{1})$ $*$ $\\frac{\\partial {(t_{1}- o_{1})}}{\\partial o_{1}} $"
   ]
  },
  {
   "cell_type": "markdown",
   "metadata": {},
   "source": [
    "$\\frac{\\partial E}{\\partial o_{1}}$  =  $-1 * (t_{1}-o_{1})$ "
   ]
  },
  {
   "cell_type": "markdown",
   "metadata": {},
   "source": [
    "$\\frac{\\partial E}{\\partial o_{1}}$  =  $(o_{1}-t_{1})$ "
   ]
  },
  {
   "cell_type": "markdown",
   "metadata": {},
   "source": [
    "$\\frac{\\partial o_{1}}{\\partial u}$ = $\\frac{\\partial {\\frac{e^{u}}{e^u + e^v} }}{\\partial u}$ "
   ]
  },
  {
   "cell_type": "markdown",
   "metadata": {},
   "source": [
    "$\\frac{\\partial o_{1}}{\\partial u}$ = $\\frac{(e^u + e^v)*e^u - e^u*e^u}{(e^u+e^v)^2}$"
   ]
  },
  {
   "cell_type": "markdown",
   "metadata": {},
   "source": [
    "$\\frac{\\partial o_{1}}{\\partial u}$ = $\\frac{e^u * e^v}{(e^u + e^v)^2}$"
   ]
  },
  {
   "cell_type": "markdown",
   "metadata": {},
   "source": [
    "$\\frac{\\partial o_{1}}{\\partial u}$ = $\\frac{e^u}{e^u + e^v} $ $*$ $\\frac{e^v}{e^u + e^v} $"
   ]
  },
  {
   "cell_type": "markdown",
   "metadata": {},
   "source": [
    "$\\frac{\\partial o_{1}}{\\partial u}$ = $\\frac{e^u}{e^u + e^v} $ $*$ $(1 - \\frac{e^u}{e^u + e^v} )$"
   ]
  },
  {
   "cell_type": "markdown",
   "metadata": {},
   "source": [
    "$\\frac{\\partial o_{1}}{\\partial o_1}$ = $o_1 * (1- o_1)$"
   ]
  },
  {
   "cell_type": "markdown",
   "metadata": {},
   "source": [
    "$\\frac{\\partial u}{\\partial w_{11}}$ = $\\frac{\\partial (x_{0}*w_{01}) + (x_{1}*w_{11}) + (x_{2}*w_{21}) + (x_{3}*w_{31}) + (x_{4}*w_{41})  }{\\partial w_{11}}$"
   ]
  },
  {
   "cell_type": "markdown",
   "metadata": {},
   "source": [
    "$\\frac{\\partial u}{\\partial w_{11}}$ = $x_1$"
   ]
  },
  {
   "cell_type": "markdown",
   "metadata": {},
   "source": [
    "## Hence"
   ]
  },
  {
   "cell_type": "markdown",
   "metadata": {},
   "source": [
    "$\\frac{\\partial E}{\\partial w_{11}}$ = $\\frac{\\partial E}{\\partial o_{1}}$ $*$ $\\frac{\\partial o_{1}}{\\partial u}$ $*$ $ \\frac{\\partial u}{\\partial w_{11}}$"
   ]
  },
  {
   "cell_type": "markdown",
   "metadata": {},
   "source": [
    "$\\frac{\\partial E}{\\partial w_{11}}$ = $x_1 * (o_{1}-t_{1})$ $*$ $o_1 * (1- o_1)$"
   ]
  },
  {
   "cell_type": "markdown",
   "metadata": {},
   "source": [
    "$\\frac{\\partial E}{\\partial w_{21}}$ = $x_2 * (o_{1}-t_{1})$ $*$ $o_1 * (1- o_1)$"
   ]
  },
  {
   "cell_type": "markdown",
   "metadata": {},
   "source": [
    "$\\frac{\\partial E}{\\partial w_{ij}}$ = $x_i * (o_{j}-t_{j})$ $*$ $o_j * (1- o_j)$"
   ]
  },
  {
   "cell_type": "markdown",
   "metadata": {},
   "source": [
    "w = w + alpha * error_Rate"
   ]
  },
  {
   "cell_type": "markdown",
   "metadata": {},
   "source": [
    "## For output 2"
   ]
  },
  {
   "cell_type": "markdown",
   "metadata": {},
   "source": [
    "$\\frac{\\partial E}{\\partial w_{12}}$ = $x_1 * (o_{2}-t_{2})$ $*$ $o_2 * (1- o_2)$"
   ]
  },
  {
   "cell_type": "markdown",
   "metadata": {},
   "source": [
    "$\\frac{\\partial E}{\\partial w_{22}}$ = $x_2 * (o_{2}-t_{2})$ $*$ $o_2 * (1- o_2)$"
   ]
  },
  {
   "cell_type": "code",
   "execution_count": null,
   "metadata": {
    "collapsed": true
   },
   "outputs": [],
   "source": []
  },
  {
   "cell_type": "markdown",
   "metadata": {},
   "source": [
    "For this example we are trying to find the change in th weight of input to hidden layer to influence the output.\n",
    "So far we have had"
   ]
  },
  {
   "cell_type": "markdown",
   "metadata": {},
   "source": [
    "For convenience lets say\n",
    "$ u = (x_{0} * w_{01}) + (x_{1} * w_{11}) + (x_{2} * w_{21}) + (x_{3} * w_{31})$\n",
    "\n",
    "and out from the hidden node: is $h_1 = tanh(u))$"
   ]
  },
  {
   "cell_type": "markdown",
   "metadata": {},
   "source": [
    "Now to find the error propogated to the weight input to the hidden node h1 = w1"
   ]
  },
  {
   "cell_type": "markdown",
   "metadata": {},
   "source": [
    "$\\frac{\\partial E}{\\partial w_{11}}$  =  Sum of errors propagated to node h1 * Derivative of output of h1 w.r.t to the input weight w11"
   ]
  },
  {
   "cell_type": "markdown",
   "metadata": {},
   "source": [
    "$\\frac{\\partial E}{\\partial w_{11}}$ =  $\\frac{\\partial E}{\\partial h_1} * \\frac{\\partial h_1}{\\partial u} * \\frac{\\partial u}{\\partial w_{11}} $"
   ]
  },
  {
   "cell_type": "markdown",
   "metadata": {},
   "source": [
    "$\\frac{\\partial u}{\\partial w_{11}}$ = $\\frac{\\partial (x_{0}*w_{01}) + (x_{1}*w_{11}) + (x_{2}*w_{21}) + (x_{3}*w_{31}) }{\\partial w_{11}}$"
   ]
  },
  {
   "cell_type": "markdown",
   "metadata": {},
   "source": [
    "$\\frac{\\partial u}{\\partial w_{11}}$ = $x_{1}$"
   ]
  },
  {
   "cell_type": "markdown",
   "metadata": {},
   "source": [
    "$\\frac{\\partial u}{\\partial w_{21}}$ = $x_{2}$"
   ]
  },
  {
   "cell_type": "markdown",
   "metadata": {},
   "source": [
    "$\\frac{\\partial u}{\\partial w_{i1}}$ = $x_{i}$"
   ]
  },
  {
   "cell_type": "markdown",
   "metadata": {},
   "source": [
    "$\\frac{\\partial h_{1}}{\\partial u}$ = $\\frac{\\partial tanh(u)}{\\partial u}$"
   ]
  },
  {
   "cell_type": "markdown",
   "metadata": {},
   "source": [
    "= $\\frac{\\partial \\frac{sinh(u)}{cosh(u)}}{\\partial u}$"
   ]
  },
  {
   "cell_type": "markdown",
   "metadata": {},
   "source": [
    "= $\\frac{cosh(u)* \\frac{dsinh(u)}{du} - sinh(u) * \\frac{dcosh(u)}{du}  }{(cosh(u))^2}$"
   ]
  },
  {
   "cell_type": "markdown",
   "metadata": {},
   "source": [
    "= $\\frac{(cosh(u))^2 - (sinh(u))^2}{(cosh(u))^2}$"
   ]
  },
  {
   "cell_type": "markdown",
   "metadata": {},
   "source": [
    "$ = 1 - (tanh(u))^2$"
   ]
  },
  {
   "cell_type": "markdown",
   "metadata": {},
   "source": [
    " $= (1-tanh(u))(1 + tanh(u))$"
   ]
  },
  {
   "cell_type": "markdown",
   "metadata": {},
   "source": [
    "$\\frac{\\partial h_{1}}{\\partial u}$ $= (1-h_1)(1+h_1)$"
   ]
  },
  {
   "cell_type": "markdown",
   "metadata": {},
   "source": [
    "$\\frac{\\partial h_{j}}{\\partial u}$ $= (1-h_j)(1+h_j)$"
   ]
  },
  {
   "cell_type": "markdown",
   "metadata": {},
   "source": [
    "$\\frac{\\partial E}{\\partial h_1}$  = Backpropogated error at the output of h1"
   ]
  },
  {
   "cell_type": "code",
   "execution_count": null,
   "metadata": {
    "collapsed": true
   },
   "outputs": [],
   "source": []
  }
 ],
 "metadata": {
  "anaconda-cloud": {},
  "kernelspec": {
   "display_name": "Python 3",
   "language": "python",
   "name": "python3"
  },
  "language_info": {
   "codemirror_mode": {
    "name": "ipython",
    "version": 3
   },
   "file_extension": ".py",
   "mimetype": "text/x-python",
   "name": "python",
   "nbconvert_exporter": "python",
   "pygments_lexer": "ipython3",
   "version": "3.5.2"
  }
 },
 "nbformat": 4,
 "nbformat_minor": 1
}
